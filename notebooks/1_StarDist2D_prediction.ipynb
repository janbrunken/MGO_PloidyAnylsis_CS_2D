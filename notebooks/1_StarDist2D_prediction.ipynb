{
 "cells": [
  {
   "cell_type": "markdown",
   "metadata": {},
   "source": [
    "# StarDist2D nuclei prediction\n",
    "## Performs StarDist2D segmentation on a given set of images using the pre-trained \"2D_versatile_fluo\" model "
   ]
  },
  {
   "cell_type": "markdown",
   "metadata": {},
   "source": [
    "## 1. Load dependencies"
   ]
  },
  {
   "cell_type": "code",
   "execution_count": null,
   "metadata": {
    "tags": []
   },
   "outputs": [],
   "source": [
    "from stardist.models import StarDist2D\n",
    "from csbdeep.utils import normalize\n",
    "import tifffile\n",
    "import os\n",
    "import glob\n",
    "from natsort import os_sorted"
   ]
  },
  {
   "cell_type": "markdown",
   "metadata": {},
   "source": [
    "## 2. Load pre-trained model"
   ]
  },
  {
   "cell_type": "code",
   "execution_count": null,
   "metadata": {
    "collapsed": false,
    "jupyter": {
     "outputs_hidden": false
    }
   },
   "outputs": [],
   "source": [
    "# prints a list of available models\n",
    "StarDist2D.from_pretrained()\n",
    "# creates a pretrained model\n",
    "model = StarDist2D.from_pretrained('2D_versatile_fluo')"
   ]
  },
  {
   "cell_type": "markdown",
   "metadata": {},
   "source": [
    "## 3. Provide image directories"
   ]
  },
  {
   "cell_type": "code",
   "execution_count": null,
   "metadata": {
    "collapsed": false,
    "jupyter": {
     "outputs_hidden": false
    }
   },
   "outputs": [],
   "source": [
    "nuc_image_directories = \"/path/to/nuclear/images/\" # path to nuclear maximum projection images"
   ]
  },
  {
   "cell_type": "markdown",
   "metadata": {},
   "source": [
    "## 4. Prediction"
   ]
  },
  {
   "cell_type": "code",
   "execution_count": null,
   "metadata": {
    "collapsed": false,
    "jupyter": {
     "outputs_hidden": false
    }
   },
   "outputs": [],
   "source": [
    "def prediction(nuc_image):\n",
    "    \"\"\"\n",
    "    Given a nuclear grayscale MaxIP image, performs StarDist2D prediction.\n",
    "    \"\"\"\n",
    "    labels, _ = model.predict_instances(normalize(nuc_image))\n",
    "    labels = labels.astype(\"uint16\")\n",
    "    return labels"
   ]
  },
  {
   "cell_type": "code",
   "execution_count": null,
   "metadata": {},
   "outputs": [],
   "source": [
    "def batch_prediction(nuc_image_dir):\n",
    "    \"\"\"\n",
    "    Given nuclear grayscale MaxIP image directories, performs batch processing of StarDist2D prediction.\n",
    "    \"\"\"\n",
    "    nuc_images = os_sorted(glob.glob(nuc_image_directories + \"*.tif\"))\n",
    "    for n, ni in enumerate(nuc_images):\n",
    "        nuc_image = tifffile.imread(ni)\n",
    "        labels = prediction(nuc_image) \n",
    "        out_dir = os.path.join(ni.rsplit(\"/\",1)[0], \"label_images\")\n",
    "        if not os.path.exists(out_dir):\n",
    "            os.mkdir(out_dir)\n",
    "        tifffile.imwrite(out_dir + f'/Nuclear_labels_series{n+1}.tif', labels)"
   ]
  },
  {
   "cell_type": "code",
   "execution_count": null,
   "metadata": {},
   "outputs": [],
   "source": [
    "batch_prediction(nuc_image_directories)"
   ]
  }
 ],
 "metadata": {
  "kernelspec": {
   "display_name": "Python [conda env:MGO_Ploidy_Test]",
   "language": "python",
   "name": "conda-env-MGO_Ploidy_Test-py"
  },
  "language_info": {
   "codemirror_mode": {
    "name": "ipython",
    "version": 3
   },
   "file_extension": ".py",
   "mimetype": "text/x-python",
   "name": "python",
   "nbconvert_exporter": "python",
   "pygments_lexer": "ipython3",
   "version": "3.8.16"
  }
 },
 "nbformat": 4,
 "nbformat_minor": 4
}
