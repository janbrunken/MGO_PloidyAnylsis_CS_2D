{
 "cells": [
  {
   "cell_type": "markdown",
   "id": "703188a0-2a77-4506-a3f8-e2e62cdaeab1",
   "metadata": {},
   "source": [
    "# Cellpose 2D prediction\n",
    "## Performs Cellpose 2D segmentation on a given set of images "
   ]
  },
  {
   "cell_type": "markdown",
   "id": "cc02ac6a-0f2a-417e-aaa8-551f4ea89596",
   "metadata": {},
   "source": [
    "## 1. Load dependencies"
   ]
  },
  {
   "cell_type": "code",
   "execution_count": null,
   "id": "1362d5c1-5f09-4457-88ab-791ee3ccc3d5",
   "metadata": {},
   "outputs": [],
   "source": [
    "import numpy as np\n",
    "import glob\n",
    "import time, os, sys\n",
    "from cellpose import core, utils, io, models, metrics, plot\n",
    "import matplotlib.pyplot as plt"
   ]
  },
  {
   "cell_type": "markdown",
   "id": "2903e955-c859-43ac-b418-a4a6dabc4a0c",
   "metadata": {},
   "source": [
    "## 2. Load images"
   ]
  },
  {
   "cell_type": "code",
   "execution_count": null,
   "id": "6b05cd4b-6bd9-4937-b883-0dbbc150b191",
   "metadata": {},
   "outputs": [],
   "source": [
    "mark_image_directories = '/path/to/marker/images/' # path to cell type marker maximum projection images (if a second channel should be defined for cellpose segmentation, make sure you provide multi-channel images)\n",
    "mark_images = sorted(glob.glob(mark_image_directories + \"/*.tif\"), key = len)\n",
    "mark_image_list = [io.imread(f) for f in mark_images]"
   ]
  },
  {
   "cell_type": "markdown",
   "id": "c534d3de-9f3e-4637-a341-9f7646d1712c",
   "metadata": {},
   "source": [
    "## 3. Load model"
   ]
  },
  {
   "cell_type": "code",
   "execution_count": null,
   "id": "65f09f19-9b2c-4aab-8e83-d5892cb9fdd0",
   "metadata": {},
   "outputs": [],
   "source": [
    "model = models.CellposeModel(gpu=False, model_type=\"cyto\")\n",
    "\n",
    "# if you have an own pre-trained model\n",
    "#modelPath = '/path/to/model'\n",
    "#model = models.CellposeModel(gpu=False, pretrained_model=modelPath)"
   ]
  },
  {
   "cell_type": "markdown",
   "id": "50d3f27c-633a-4a1c-8106-e82e63c7561b",
   "metadata": {},
   "source": [
    "## 3. Inspect channels of first image "
   ]
  },
  {
   "cell_type": "code",
   "execution_count": null,
   "id": "d8bffdf2-032e-475c-8ee3-44d8a3e4a8b7",
   "metadata": {},
   "outputs": [],
   "source": [
    "plt.rcParams['figure.dpi'] = 150\n",
    "if len(mark_image_list[0].shape) > 2:\n",
    "    nc = mark_image_list[0].shape[0]\n",
    "    img = mark_image_list[0].transpose(2,1,0)\n",
    "    ratio = np.amax(img) / 256\n",
    "    img = (img/ratio).astype(\"uint8\")\n",
    "    fig = plt.figure(figsize=(50, 30))\n",
    "    for c in range(nc):\n",
    "        fig.add_subplot(1, nc+1, c+1)\n",
    "        plt.imshow(img[:,:,c], cmap=\"Greys_r\")\n",
    "        plt.axis('off')\n",
    "        plt.title(f\"Channel {c}\")\n",
    "    fig.add_subplot(1, nc+1, nc+1)\n",
    "    plt.imshow(img)\n",
    "    plt.tight_layout()\n",
    "    plt.axis('off')\n",
    "    plt.title(\"Merge\")\n",
    "    plt.style.use(\"dark_background\")\n",
    "else:\n",
    "    img = mark_image_list[0]\n",
    "    fig = plt.figure(figsize=(30, 20))\n",
    "    plt.imshow(img, cmap=\"Greys_r\")\n",
    "    plt.tight_layout()\n",
    "    plt.axis('off')\n",
    "    plt.style.use(\"dark_background\")"
   ]
  },
  {
   "cell_type": "markdown",
   "id": "54b764fa-fefa-4719-9e47-de44a422130c",
   "metadata": {},
   "source": [
    "## 4. Define prediction parameters"
   ]
  },
  {
   "cell_type": "code",
   "execution_count": null,
   "id": "8f939fd7-db25-43a1-8ddd-b845fde4f6c5",
   "metadata": {},
   "outputs": [],
   "source": [
    "\"\"\"\n",
    "# define CHANNELS to run segementation on\n",
    "# grayscale=0, R=1, G=2, B=3\n",
    "# channels = [cytoplasm, nucleus]\n",
    "# if NUCLEUS channel does not exist, set the second channel to 0\n",
    "# channels = [0,0]\n",
    "# IF ALL YOUR IMAGES ARE THE SAME TYPE, you can give a list with 2 elements\n",
    "# channels = [0,0] # IF YOU HAVE GRAYSCALE\n",
    "# channels = [2,3] # IF YOU HAVE G=cytoplasm and B=nucleus\n",
    "# channels = [2,1] # IF YOU HAVE G=cytoplasm and R=nucleus\n",
    "\"\"\"\n",
    "chan = 2 # primary channel to segment on\n",
    "chan2 = 1 # optional secondary channel\n",
    "channels = [chan, chan2]\n",
    "diameter = 22.2\n",
    "flow_threshold = 0.4\n",
    "cellprob_threshold = 0"
   ]
  },
  {
   "cell_type": "markdown",
   "id": "d5ad42d8-13a8-46fb-983a-a8f27dbfdb71",
   "metadata": {},
   "source": [
    "## 5. Prediction"
   ]
  },
  {
   "cell_type": "code",
   "execution_count": null,
   "id": "91fdb986-f756-442e-a7bd-2b302c728501",
   "metadata": {},
   "outputs": [],
   "source": [
    "masks, flows, styles = model.eval(mark_image_list, \n",
    "                                  channels=channels,\n",
    "                                  diameter=diameter,\n",
    "                                  flow_threshold=flow_threshold,\n",
    "                                  cellprob_threshold=cellprob_threshold\n",
    "                                  )"
   ]
  },
  {
   "cell_type": "markdown",
   "id": "b7c2fbe4-a388-4144-8c15-914fffcc4abf",
   "metadata": {},
   "source": [
    "## 6. Inspect prediction results"
   ]
  },
  {
   "cell_type": "code",
   "execution_count": null,
   "id": "8f68d706-e2c2-4971-9a28-3a37705a4078",
   "metadata": {},
   "outputs": [],
   "source": [
    "nimg = len(mark_image_list)\n",
    "for idx in range(nimg):\n",
    "    maski = masks[idx]\n",
    "    flowi = flows[idx][0]\n",
    "\n",
    "    fig = plt.figure(figsize=(50,30))\n",
    "    img = mark_image_list[idx]\n",
    "    ratio = np.amax(img) / 256\n",
    "    img = (img/ratio).astype(\"uint8\")\n",
    "    plot.show_segmentation(fig, img, maski, flowi)\n",
    "    plt.tight_layout()\n",
    "    plt.style.use(\"dark_background\")\n",
    "    plt.show()"
   ]
  },
  {
   "cell_type": "markdown",
   "id": "cc4eb509-4a85-45cd-9bef-2cd56db7ddce",
   "metadata": {},
   "source": [
    "## 7. Save results"
   ]
  },
  {
   "cell_type": "code",
   "execution_count": null,
   "id": "d711c74e-42a4-45c0-8239-7efc6792b7a9",
   "metadata": {},
   "outputs": [],
   "source": [
    "io.save_masks(mark_image_list, \n",
    "              masks, \n",
    "              flows,\n",
    "              mark_images, \n",
    "              channels=channels,\n",
    "              png=False, # save masks as PNGs and save example image\n",
    "              tif=True, # save masks as TIFFs\n",
    "              save_txt=True, # save txt outlines for ImageJ\n",
    "              save_flows=True, # save flows as TIFFs\n",
    "              save_outlines=True, # save outlines as PNGs\n",
    "              in_folders=True # save everything in separated folders\n",
    "              )"
   ]
  }
 ],
 "metadata": {
  "kernelspec": {
   "display_name": "Python [conda env:MGO_Ploidy_Test]",
   "language": "python",
   "name": "conda-env-MGO_Ploidy_Test-py"
  },
  "language_info": {
   "codemirror_mode": {
    "name": "ipython",
    "version": 3
   },
   "file_extension": ".py",
   "mimetype": "text/x-python",
   "name": "python",
   "nbconvert_exporter": "python",
   "pygments_lexer": "ipython3",
   "version": "3.8.16"
  }
 },
 "nbformat": 4,
 "nbformat_minor": 5
}
