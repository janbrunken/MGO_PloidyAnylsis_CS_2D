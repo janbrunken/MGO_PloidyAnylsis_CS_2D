{
 "cells": [
  {
   "cell_type": "markdown",
   "id": "2b959f1f-fc6d-4eee-86f9-3b8e92349c7a",
   "metadata": {},
   "source": [
    "# Data pre-processing\n",
    "## Script to match nuclear and cell type marker labels and remove erroneous labels"
   ]
  },
  {
   "cell_type": "markdown",
   "id": "49c98f9b-57a7-4d34-b61a-a88b81639277",
   "metadata": {},
   "source": [
    "## 1. Load dependencies"
   ]
  },
  {
   "cell_type": "code",
   "execution_count": null,
   "id": "011c6954-5cfe-474b-94d7-c6011e874459",
   "metadata": {},
   "outputs": [],
   "source": [
    "from PloidyAnalysis_2D import batch_match_labels, batch_remove_unmatched_nuc, batch_remove_unmatched_mark, batch_reindex_labels"
   ]
  },
  {
   "cell_type": "markdown",
   "id": "125649f4-350e-4e65-97d7-7920956b469f",
   "metadata": {},
   "source": [
    "## 2. Provide image directories"
   ]
  },
  {
   "cell_type": "code",
   "execution_count": null,
   "id": "fbb5a661-6430-4205-aea1-0076bbf8c381",
   "metadata": {},
   "outputs": [],
   "source": [
    "nuc_label_directories = \"/path/to/nuclear/labels/\" # directories containing nuclear labels\n",
    "mark_label_directories = \"/path/to/marker/labels/\" # directories containing cell type marker labels"
   ]
  },
  {
   "cell_type": "markdown",
   "id": "1c132640-bf58-4b10-b30c-5ccaeda6795d",
   "metadata": {
    "tags": []
   },
   "source": [
    "## 3. Run pre-processing functions"
   ]
  },
  {
   "cell_type": "markdown",
   "id": "fd486a08-6634-4121-a481-f2b74bcf7705",
   "metadata": {},
   "source": [
    "### 3.1 Match labels of nuclear and cell type marker label images"
   ]
  },
  {
   "cell_type": "code",
   "execution_count": null,
   "id": "71c775ad-1aa7-4ec8-b121-6557b173c7ff",
   "metadata": {},
   "outputs": [],
   "source": [
    "# matches nuclear to cell type marker labels and saves matched nuclear labels in a new folder \"labels_matched\"\n",
    "batch_match_labels(\n",
    "    nuc_label_directories, \n",
    "    mark_label_directories\n",
    ")"
   ]
  },
  {
   "cell_type": "markdown",
   "id": "f62d50f3-96ad-4b0a-80e0-641e22775cf7",
   "metadata": {},
   "source": [
    "### 3.2 Remove excessive cell type marker labels"
   ]
  },
  {
   "cell_type": "code",
   "execution_count": null,
   "id": "0d3283d1-ee24-44a2-bb14-5684d14b5d42",
   "metadata": {},
   "outputs": [],
   "source": [
    "# specify new path of matched nuclear labels\n",
    "nuc_matched_label_directories = \"/path/to/matched/nuclear/labels/\""
   ]
  },
  {
   "cell_type": "code",
   "execution_count": null,
   "id": "4a9f6cba-44ff-4971-ab77-034402b40518",
   "metadata": {},
   "outputs": [],
   "source": [
    "# removes unmatched cell type marker labels and saves curated cell type marker labels in a new folder \"labels_matched\"\n",
    "batch_remove_unmatched_mark(\n",
    "    nuc_matched_label_directories,\n",
    "    mark_label_directories,\n",
    ")"
   ]
  },
  {
   "cell_type": "markdown",
   "id": "8dea2238-8eb6-475f-868b-f9fa97390cc0",
   "metadata": {},
   "source": [
    "### 3.3 Remove excessive nuclear labels"
   ]
  },
  {
   "cell_type": "code",
   "execution_count": null,
   "id": "734cd7bc-4222-419d-901e-d982dc433792",
   "metadata": {},
   "outputs": [],
   "source": [
    "# specify new path of matched cell type marker labels\n",
    "mark_matched_label_directories = \"/path/to/matched/marker/labels/\""
   ]
  },
  {
   "cell_type": "code",
   "execution_count": null,
   "id": "6a1a2c7d-a2d9-4e07-82bd-462f1222fa6d",
   "metadata": {},
   "outputs": [],
   "source": [
    "# removes unmatched nuclear labels and overrides nucelar labels in \"/path/to/matched/marker/labels/\"\n",
    "batch_remove_unmatched_nuc(\n",
    "    nuc_matched_label_directories,\n",
    "    mark_matched_label_directories,\n",
    ")"
   ]
  },
  {
   "cell_type": "markdown",
   "id": "61b8fd84-cdbd-4d6f-a3b7-d7f6fc982441",
   "metadata": {},
   "source": [
    "### 3.3 Reindex label images"
   ]
  },
  {
   "cell_type": "code",
   "execution_count": null,
   "id": "cd3f5d95-6f90-4f68-83c6-ffc2d4cd8578",
   "metadata": {},
   "outputs": [],
   "source": [
    "# reindexes nuclear and cell type marker labels and saves the labels in a new folder \"labels_matched_reindexed\" \n",
    "batch_reindex_labels(\n",
    "    nuc_matched_label_directories,\n",
    "    mark_matched_label_directories,\n",
    ")"
   ]
  }
 ],
 "metadata": {
  "kernelspec": {
   "display_name": "Python [conda env:MGO_Ploidy_Test]",
   "language": "python",
   "name": "conda-env-MGO_Ploidy_Test-py"
  },
  "language_info": {
   "codemirror_mode": {
    "name": "ipython",
    "version": 3
   },
   "file_extension": ".py",
   "mimetype": "text/x-python",
   "name": "python",
   "nbconvert_exporter": "python",
   "pygments_lexer": "ipython3",
   "version": "3.8.16"
  }
 },
 "nbformat": 4,
 "nbformat_minor": 5
}
