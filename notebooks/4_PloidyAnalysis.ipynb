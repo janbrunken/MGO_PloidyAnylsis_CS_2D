{
 "cells": [
  {
   "cell_type": "markdown",
   "metadata": {},
   "source": [
    "# Ploidy analysis\n",
    "## Script to perform ploidy analysis of nuclear, cell type marker and cell cycle marker staining images "
   ]
  },
  {
   "cell_type": "markdown",
   "metadata": {},
   "source": [
    "## 1. Load dependencies"
   ]
  },
  {
   "cell_type": "code",
   "execution_count": null,
   "metadata": {},
   "outputs": [],
   "source": [
    "import numpy as np\n",
    "from skimage import io, color\n",
    "import pandas as pd\n",
    "from natsort import os_sorted\n",
    "import glob\n",
    "import seaborn as sns\n",
    "import matplotlib\n",
    "import matplotlib.pyplot as plt\n",
    "plt.style.use(\"dark_background\")\n",
    "import plotly\n",
    "import plotly.express as px\n",
    "import plotly.graph_objects as go\n",
    "from plotly.subplots import make_subplots\n",
    "from PloidyAnalysis_2D import measure_properties, process_data, process_images, simple_overlay, interactive_overlay"
   ]
  },
  {
   "cell_type": "markdown",
   "metadata": {},
   "source": [
    "## 2. Get data"
   ]
  },
  {
   "cell_type": "code",
   "execution_count": null,
   "metadata": {},
   "outputs": [],
   "source": [
    "\"\"\"\n",
    "Provide image directories as well as cell type marker ame (mark) and cell cycle marker name (cc)\n",
    "\"\"\"\n",
    "\n",
    "nuc_img_directories = \"/path/to/nuclear/SumIPs/\" # nuclear sum projection image directories\n",
    "nuc_label_directories = \"/path/to/reindexed/nuclear/labels/\" # nuclear labels directories\n",
    "nuc_max_directories = \"/path/to/nuclear/MaxIPs/\" # nuclear max images directories\n",
    "mark_img_directories = \"/path/to/marker/SumIPs/\" # cell type marker sum projection images directories\n",
    "mark_label_directories = \"/path/to/reindexed/marker/labels/\" # cell type marker labels directories\n",
    "mark_max_directories = \"/path/to/marker/MaxIPs/\" # cell type marker max images directories\n",
    "cc_img_directories = \"/path/to/cellcycle/SumIPs/\" # cell cycle marker sum image directories\n",
    "cc_max_directories = \"/path/to/cellcycle/MaxIPs/\" # cell cylce marker max image directories\n",
    "\n",
    "mark = \"CellTypeMarker\"\n",
    "cc = \"CellCycleMarker\""
   ]
  },
  {
   "cell_type": "code",
   "execution_count": null,
   "metadata": {},
   "outputs": [],
   "source": [
    "nuc_images = os_sorted(glob.glob(nuc_img_directories + \"*.tif\"))\n",
    "nuc_label_images = os_sorted(glob.glob(nuc_label_directories + \"*.tif\"))\n",
    "nuc_max_images = os_sorted(glob.glob(nuc_max_directories + \"*.tif\"))\n",
    "mark_images = os_sorted(glob.glob(mark_img_directories + \"*.tif\"))\n",
    "mark_label_images = os_sorted(glob.glob(mark_label_directories + \"*.tif\"))\n",
    "mark_max_images = os_sorted(glob.glob(mark_max_directories + \"*.tif\"))\n",
    "cc_images = os_sorted(glob.glob(cc_img_directories + \"*.tif\"))\n",
    "cc_max_images = os_sorted(glob.glob(cc_max_directories + \"*.tif\"))"
   ]
  },
  {
   "cell_type": "markdown",
   "metadata": {},
   "source": [
    "## 3. Process data"
   ]
  },
  {
   "cell_type": "code",
   "execution_count": null,
   "metadata": {},
   "outputs": [],
   "source": [
    "processed_data = process_images(nuc_images, mark_images, cc_images, nuc_label_images, mark_label_images, mark, cc)"
   ]
  },
  {
   "cell_type": "code",
   "execution_count": null,
   "metadata": {},
   "outputs": [],
   "source": [
    "processed_data"
   ]
  },
  {
   "cell_type": "markdown",
   "metadata": {},
   "source": [
    "## 4. Initial data inspection"
   ]
  },
  {
   "cell_type": "code",
   "execution_count": null,
   "metadata": {},
   "outputs": [],
   "source": [
    "simple_overlay(nuc_images[0], nuc_label_images[0])"
   ]
  },
  {
   "cell_type": "code",
   "execution_count": null,
   "metadata": {},
   "outputs": [],
   "source": [
    "simple_overlay(mark_images[0], mark_label_images[0])"
   ]
  },
  {
   "cell_type": "code",
   "execution_count": null,
   "metadata": {},
   "outputs": [],
   "source": [
    "plt.style.use(\"dark_background\")\n",
    "sns.pairplot(\n",
    "    processed_data, kind =\"hist\", height=4,\n",
    "    vars=[f\"{mark}_median_intensity_bgCorr\", f\"{mark}_CTCF_n\", f\"{mark}_volume\",\n",
    "          \"nuc_median_intensity_bgCorr\", \"nuc_CTCF_n\", \"nuc_volume\",\n",
    "          f\"{cc}_median_intensity_bgCorr\", f\"{cc}_CTCF_n\"],\n",
    "    diag_kws= {'color': '#59debf'})"
   ]
  },
  {
   "cell_type": "markdown",
   "metadata": {},
   "source": [
    "## 5. Exclude cycling cells"
   ]
  },
  {
   "cell_type": "code",
   "execution_count": null,
   "metadata": {},
   "outputs": [],
   "source": [
    "\"\"\"\n",
    "Given a list of image files, the correponding labels files, the desired series, tabular data of label features, alpha value for opacity, low contrast threshold, high contrast threshold, a color mode, the output directory as well as the output file name,\n",
    "creates an masked overlay with hover information provided for each label.\n",
    "\"\"\"\n",
    "#interactive_overlay(image_files, labels_files, series, data, mark, cc, label_alpha, contrast_lo, contrast_hi, color_mode, out_dir, out_file_name)\n",
    "interactive_overlay(cc_max_images, nuc_label_images, 1, mark, cc, processed_data, 0.4, 200, 20000, \"default_colormode\", \"/path/to/out_dir\", \"ccImage_nucLabels\")"
   ]
  },
  {
   "cell_type": "code",
   "execution_count": null,
   "metadata": {
    "tags": []
   },
   "outputs": [],
   "source": [
    "x = processed_data[f'{cc}_median_intensity_bgCorr']\n",
    "\n",
    "fig = go.Figure()\n",
    "fig.add_trace(go.Histogram(x=x, nbinsx=700, marker_color='cyan', name='G1'))\n",
    "fig.update_layout(barmode='overlay',\n",
    "                  template=\"plotly_dark\",\n",
    "                  height=800,\n",
    "                  xaxis_title_text=f'{cc} median fluorescence intensity',\n",
    "                  yaxis_title_text='Count',)\n",
    "fig.update_traces(opacity=0.6)\n",
    "\n",
    "fig.show()"
   ]
  },
  {
   "cell_type": "code",
   "execution_count": null,
   "metadata": {
    "tags": []
   },
   "outputs": [],
   "source": [
    "y = processed_data['nuc_volume']\n",
    "x = processed_data[f'{cc}_median_intensity_bgCorr']\n",
    "\n",
    "fig = go.Figure()\n",
    "fig.add_trace(go.Scatter(x=x, y=y, marker_color='cyan', mode=\"markers\"))\n",
    "\n",
    "fig.update_layout(template=\"plotly_dark\",\n",
    "                  height=800,\n",
    "                  xaxis_title_text=f'{cc} median fluorescence intensity',\n",
    "                  yaxis_title_text='Nuclear volume',)\n",
    "fig.update_traces(opacity=0.6)\n",
    "#fig.update_yaxes(type=\"log\")\n",
    "\n",
    "fig.show()"
   ]
  },
  {
   "cell_type": "markdown",
   "metadata": {
    "tags": []
   },
   "source": [
    "### Categorize cells into \"G1\" and \"G2\" based on cell cycle marker expression and nuclear volume"
   ]
  },
  {
   "cell_type": "code",
   "execution_count": null,
   "metadata": {
    "tags": []
   },
   "outputs": [],
   "source": [
    "def categorise_cell_cycle(row):\n",
    "    if row[f'{cc}_median_intensity_bgCorr'] > 8000:\n",
    "        return 'G2'\n",
    "    else:\n",
    "        return 'G1'"
   ]
  },
  {
   "cell_type": "code",
   "execution_count": null,
   "metadata": {
    "tags": []
   },
   "outputs": [],
   "source": [
    "processed_data['cell_cycle'] = processed_data.apply(lambda row: categorise_cell_cycle(row), axis=1)"
   ]
  },
  {
   "cell_type": "code",
   "execution_count": null,
   "metadata": {
    "tags": []
   },
   "outputs": [],
   "source": [
    "processed_data[\"cell_cycle\"].value_counts()"
   ]
  },
  {
   "cell_type": "code",
   "execution_count": null,
   "metadata": {},
   "outputs": [],
   "source": [
    "processed_data"
   ]
  },
  {
   "cell_type": "code",
   "execution_count": null,
   "metadata": {},
   "outputs": [],
   "source": [
    "\"\"\"\n",
    "Given a list of image files, the correponding labels files, the desired series, tabular data of label features, alpha value for opacity, low contrast threshold, high contrast threshold, a color mode, the output directory as well as the output file name,\n",
    "creates an masked overlay with hover information provided for each label.\n",
    "\"\"\"\n",
    "#interactive_overlay(image_files, labels_files, series, data, mark, cc, label_alpha, contrast_lo, contrast_hi, color_mode, out_dir, out_file_name)\n",
    "interactive_overlay(cc_max_images, nuc_label_images, 1, mark, cc, processed_data, 0.4, 200, 20000, \"cell_cycle\", \"/path/to/out_dir\", \"ccImage_nucLabels_cellCycle\")"
   ]
  },
  {
   "cell_type": "code",
   "execution_count": null,
   "metadata": {
    "tags": []
   },
   "outputs": [],
   "source": [
    "x0 = processed_data[processed_data[\"cell_cycle\"]==\"G1\"][\"nuc_CTCF_n\"]\n",
    "x1 = processed_data[processed_data[\"cell_cycle\"]==\"G2\"][\"nuc_CTCF_n\"]\n",
    "\n",
    "fig = go.Figure()\n",
    "fig.add_trace(go.Histogram(x=x0, nbinsx=400, marker_color='cyan', name='G1'))\n",
    "fig.add_trace(go.Histogram(x=x1, nbinsx=400, marker_color='magenta', name='G2'))\n",
    "\n",
    "fig.update_layout(barmode='overlay',\n",
    "                  template=\"plotly_dark\",\n",
    "                  height=800,\n",
    "                  xaxis_title_text='Nuclear total DAPI fluorescence',\n",
    "                  yaxis_title_text='Count',)\n",
    "fig.update_traces(opacity=0.6)\n",
    "\n",
    "fig.show()"
   ]
  },
  {
   "cell_type": "code",
   "execution_count": null,
   "metadata": {
    "tags": []
   },
   "outputs": [],
   "source": [
    "y0 = processed_data[processed_data[\"cell_cycle\"]==\"G1\"][\"nuc_CTCF_n\"]\n",
    "y1 = processed_data[processed_data[\"cell_cycle\"]==\"G2\"][\"nuc_CTCF_n\"]\n",
    "\n",
    "x0 = processed_data[processed_data[\"cell_cycle\"]==\"G1\"][f\"{cc}_median_intensity_bgCorr\"]\n",
    "x1 = processed_data[processed_data[\"cell_cycle\"]==\"G2\"][f\"{cc}_median_intensity_bgCorr\"]\n",
    "\n",
    "fig = go.Figure()\n",
    "fig.add_trace(go.Scatter(x=x0, y=y0, marker_color='cyan', name='G1', mode=\"markers\"))\n",
    "fig.add_trace(go.Scatter(x=x1, y=y1, marker_color='magenta', name='G2', mode=\"markers\"))\n",
    "\n",
    "fig.update_layout(barmode='overlay',\n",
    "                  template=\"plotly_dark\",\n",
    "                  height=800,\n",
    "                  xaxis_title_text=f'{cc} median fluorescence intensity',\n",
    "                  yaxis_title_text='Nuclear total DAPI fluorescence',)\n",
    "fig.update_traces(opacity=0.6)\n",
    "fig.update_xaxes(type=\"log\")\n",
    "\n",
    "\n",
    "fig.show()"
   ]
  },
  {
   "cell_type": "markdown",
   "metadata": {
    "tags": []
   },
   "source": [
    "## 6. Categorize cells by ploidy"
   ]
  },
  {
   "cell_type": "code",
   "execution_count": null,
   "metadata": {},
   "outputs": [],
   "source": [
    "def categorise_ploidy(row):\n",
    "    if row['cell_cycle'] == \"G1\" and row['nuc_CTCF_n'] <= 8.5:\n",
    "        return '2N'\n",
    "    elif row['cell_cycle'] == \"G1\" and row['nuc_CTCF_n'] > 8.5:\n",
    "        return '4N'\n",
    "    else:\n",
    "        return 'NA'"
   ]
  },
  {
   "cell_type": "code",
   "execution_count": null,
   "metadata": {},
   "outputs": [],
   "source": [
    "processed_data['ploidy'] = processed_data.apply(lambda row: categorise_ploidy(row), axis=1)"
   ]
  },
  {
   "cell_type": "code",
   "execution_count": null,
   "metadata": {},
   "outputs": [],
   "source": [
    "processed_data[\"ploidy\"].value_counts()"
   ]
  },
  {
   "cell_type": "code",
   "execution_count": null,
   "metadata": {},
   "outputs": [],
   "source": [
    "\"\"\"\n",
    "Given a list of image files, the correponding labels files, the desired series, tabular data of label features, alpha value for opacity, low contrast threshold, high contrast threshold, a color mode, the output directory as well as the output file name,\n",
    "creates an masked overlay with hover information provided for each label.\n",
    "\"\"\"\n",
    "#interactive_overlay(image_files, labels_files, series, data, label_alpha, contrast_lo, contrast_hi, color_mode, out_dir, out_file_name)\n",
    "interactive_overlay(cc_max_images, nuc_label_images, 1, mark, cc, processed_data, 0.4, 200, 20000, \"ploidy\", \"/path/to/out_dir\", \"ccImage_nucLabels_ploidy\")"
   ]
  },
  {
   "cell_type": "markdown",
   "metadata": {},
   "source": [
    "## 7. Determine type of polyploid cells"
   ]
  },
  {
   "cell_type": "code",
   "execution_count": null,
   "metadata": {},
   "outputs": [],
   "source": [
    "x0 = processed_data[f\"{mark}_median_intensity_bgCorr\"]\n",
    "\n",
    "fig = go.Figure()\n",
    "fig.add_trace(go.Histogram(x=x0, nbinsx=500, marker_color='cyan', name='G1'))\n",
    "\n",
    "fig.update_layout(barmode='overlay',\n",
    "                  template=\"plotly_dark\",\n",
    "                  height=800,\n",
    "                  xaxis_title_text=f'{mark} total fluorescence',\n",
    "                  yaxis_title_text='Count',)\n",
    "fig.update_traces(opacity=0.6)\n",
    "#fig.update_xaxes(type=\"log\")\n",
    "\n",
    "\n",
    "fig.show()"
   ]
  },
  {
   "cell_type": "code",
   "execution_count": null,
   "metadata": {},
   "outputs": [],
   "source": [
    "x0 = processed_data[f\"{mark}_median_intensity_bgCorr\"]\n",
    "    \n",
    "y0 =  processed_data[f\"{mark}_volume\"]\n",
    "\n",
    "fig = go.Figure()\n",
    "fig.add_trace(go.Scatter(x=x0, y=y0, marker_color='cyan', name='G1', mode=\"markers\"))\n",
    "\n",
    "fig.update_layout(barmode='overlay',\n",
    "                  template=\"plotly_dark\",\n",
    "                  height=800,\n",
    "                  yaxis_title_text=f'{mark} volume',\n",
    "                  xaxis_title_text=f'{mark} total fluorescence',)\n",
    "fig.update_traces(opacity=0.6)\n",
    "\n",
    "fig.update_xaxes(type=\"log\")\n",
    "fig.update_yaxes(type=\"log\")\n",
    "\n",
    "fig.show()"
   ]
  },
  {
   "cell_type": "markdown",
   "metadata": {},
   "source": [
    "### Categorize cells by cell type marker expression"
   ]
  },
  {
   "cell_type": "code",
   "execution_count": null,
   "metadata": {},
   "outputs": [],
   "source": [
    "def categorise_cell_type(row):\n",
    "    if row[f'{mark}_median_intensity_bgCorr'] >= 6000:\n",
    "        return f'{mark}_positive'\n",
    "    else:\n",
    "        return f'{mark}_negative'"
   ]
  },
  {
   "cell_type": "code",
   "execution_count": null,
   "metadata": {},
   "outputs": [],
   "source": [
    "processed_data['cell_type'] = processed_data.apply(lambda row: categorise_cell_type(row), axis=1)"
   ]
  },
  {
   "cell_type": "code",
   "execution_count": null,
   "metadata": {},
   "outputs": [],
   "source": [
    "processed_data[\"cell_type\"].value_counts()"
   ]
  },
  {
   "cell_type": "code",
   "execution_count": null,
   "metadata": {},
   "outputs": [],
   "source": [
    "processed_data"
   ]
  },
  {
   "cell_type": "code",
   "execution_count": null,
   "metadata": {},
   "outputs": [],
   "source": [
    "x0 = processed_data[(processed_data[\"cell_type\"]==f\"{mark}_positive\") & (processed_data[\"ploidy\"]==\"2N\") | (processed_data[\"ploidy\"]==\"4N\")][\"nuc_CTCF_n\"]\n",
    "x1 = processed_data[(processed_data[\"cell_type\"]==f\"{mark}_positive\") & (processed_data[\"ploidy\"]==\"NA\")][\"nuc_CTCF_n\"]\n",
    "x2 = processed_data[processed_data[\"cell_type\"]==f\"{mark}_negative\"][\"nuc_CTCF_n\"]\n",
    "\n",
    "fig = go.Figure()\n",
    "fig.add_trace(go.Histogram(x=x0, nbinsx=300, marker_color='cyan', name=f'{mark}_positive G1'))\n",
    "fig.add_trace(go.Histogram(x=x1, nbinsx=300, marker_color='yellow', name=f'{mark}_positive G2'))\n",
    "fig.add_trace(go.Histogram(x=x2, nbinsx=300, marker_color='magenta', name=f'{mark}_negative'))\n",
    "\n",
    "fig.update_layout(barmode='overlay',\n",
    "                  template=\"plotly_dark\",\n",
    "                  height=800,\n",
    "                  xaxis_title_text='Nuclear total fluorescence',\n",
    "                  yaxis_title_text='Count',)\n",
    "fig.update_traces(opacity=0.5)\n",
    "\n",
    "fig.show()"
   ]
  },
  {
   "cell_type": "code",
   "execution_count": null,
   "metadata": {},
   "outputs": [],
   "source": [
    "diploid = processed_data[processed_data['ploidy'] == '2N']['cell_type'].value_counts()\n",
    "tetraploid = processed_data[processed_data['ploidy'] == '4N']['cell_type'].value_counts()\n",
    "diploid100 = pd.Series(data={f\"{mark}_positive\": diploid.values[0]/(diploid.values[0]+tetraploid.values[0])*100, f\"{mark}_negative\": diploid.values[1]/(diploid.values[1]+tetraploid.values[1])*100}, index=[f'{mark}_positive', f'{mark}_negative'])\n",
    "tetraploid100 = pd.Series(data={f\"{mark}_positive\": tetraploid.values[0]/(diploid.values[0]+tetraploid.values[0])*100, f\"{mark}_negative\": tetraploid.values[1]/(diploid.values[1]+tetraploid.values[1])*100}, index=[f'{mark}_positive', f'{mark}_negative'])\n",
    "\n",
    "trace1 = go.Bar(\n",
    "    x=diploid.index,\n",
    "    y=diploid.values,\n",
    "    name='2N',\n",
    "    marker_color='cyan'\n",
    ")\n",
    "trace2 = go.Bar(\n",
    "    x=tetraploid.index,\n",
    "    y=tetraploid.values,\n",
    "    name='4N',\n",
    "    marker_color='magenta'\n",
    ")\n",
    "\n",
    "trace3 = go.Bar(\n",
    "    x=diploid100.index,\n",
    "    y=diploid100.values,\n",
    "    name='2N',\n",
    "    marker_color='cyan',\n",
    "    showlegend=False\n",
    ")\n",
    "trace4 = go.Bar(\n",
    "    x=tetraploid100.index,\n",
    "    y=tetraploid100.values,\n",
    "    name='4N',\n",
    "    marker_color='magenta',\n",
    "    showlegend=False\n",
    ")\n",
    "\n",
    "data = [trace1, trace2]\n",
    "\n",
    "fig = make_subplots(rows=1,\n",
    "                    cols=2,\n",
    "                    subplot_titles=(\"Ploidy absolute\", \"Ploidy relative\"),\n",
    "                    horizontal_spacing=0.3\n",
    "                   )\n",
    "\n",
    "fig.add_trace(trace1, row=1, col=1)\n",
    "fig.add_trace(trace2, row=1, col=1)\n",
    "fig.add_trace(trace3, row=1, col=2)\n",
    "fig.add_trace(trace4, row=1, col=2)\n",
    "\n",
    "fig.update_xaxes(title_text=\"Cell Type\", row=1, col=1)\n",
    "fig.update_xaxes(title_text=\"Cell Type\", row=1, col=2)\n",
    "fig.update_yaxes(title_text=\"Cell Count\", row=1, col=1)\n",
    "fig.update_yaxes(title_text=\"% Cells\", row=1, col=2)\n",
    "\n",
    "fig.update_layout(barmode='stack',\n",
    "                  template=\"plotly_dark\",\n",
    "                  height=800,\n",
    "                  width=1000\n",
    ")\n",
    "fig.show()"
   ]
  },
  {
   "cell_type": "code",
   "execution_count": null,
   "metadata": {},
   "outputs": [],
   "source": [
    "\"\"\"\n",
    "Given a list of image files, the correponding labels files, the desired series, tabular data of label features, alpha value for opacity, low contrast threshold, high contrast threshold, a color mode, the output directory as well as the output file name,\n",
    "creates an masked overlay with hover information provided for each label.\n",
    "\"\"\"\n",
    "#interactive_overlay(image_files, labels_files, series, data, label_alpha, contrast_lo, contrast_hi, color_mode, out_dir, out_file_name)\n",
    "interactive_overlay(mark_max_images, mark_label_images, 1, mark, cc, processed_data, 0.4, 200, 20000, \"cell_type\", \"/path/to/out_dir\", \"markImage_markLabels_cellType\")"
   ]
  }
 ],
 "metadata": {
  "kernelspec": {
   "display_name": "Python [conda env:MGO_Ploidy_Test]",
   "language": "python",
   "name": "conda-env-MGO_Ploidy_Test-py"
  },
  "language_info": {
   "codemirror_mode": {
    "name": "ipython",
    "version": 3
   },
   "file_extension": ".py",
   "mimetype": "text/x-python",
   "name": "python",
   "nbconvert_exporter": "python",
   "pygments_lexer": "ipython3",
   "version": "3.8.16"
  }
 },
 "nbformat": 4,
 "nbformat_minor": 4
}
